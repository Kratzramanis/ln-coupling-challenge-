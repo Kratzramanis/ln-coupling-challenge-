{
 "cells": [
  {
   "cell_type": "code",
   "execution_count": 1,
   "id": "1bf60a77",
   "metadata": {},
   "outputs": [
    {
     "name": "stdout",
     "output_type": "stream",
     "text": [
      "Notebook ready – κ₁ demo: 3.7376696182833684\n"
     ]
    }
   ],
   "source": [
    "import pandas as pd, numpy as np, math\n",
    "print(\"Notebook ready – κ₁ demo:\", math.log(42))"
   ]
  }
 ],
 "metadata": {
  "kernelspec": {
   "display_name": "Python 3",
   "language": "python",
   "name": "python3"
  },
  "language_info": {
   "codemirror_mode": {
    "name": "ipython",
    "version": 3
   },
   "file_extension": ".py",
   "mimetype": "text/x-python",
   "name": "python",
   "nbconvert_exporter": "python",
   "pygments_lexer": "ipython3",
   "version": "3.12.1"
  }
 },
 "nbformat": 4,
 "nbformat_minor": 5
}
